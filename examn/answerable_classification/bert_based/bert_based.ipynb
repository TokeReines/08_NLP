{
 "cells": [
  {
   "cell_type": "code",
   "execution_count": null,
   "metadata": {},
   "outputs": [],
   "source": [
    "from dataset import FFN2Dataset\n",
    "from tokenizer import FFN2Tokenizer\n",
    "from torch.optim import Adam\n",
    "from datasets import load_dataset\n",
    "import torch\n",
    "from models import MeanClassifier, CLSClassifier, LogRegCLSClassifier\n",
    "from train import train\n",
    "from torch.optim.lr_scheduler import CyclicLR\n",
    "\n",
    "bert_map = {\n",
    "    'bengali': 'google/muril-base-cased', \n",
    "    'english': 'bert-base-uncased', \n",
    "    'indonesian': 'cahya/bert-base-indonesian-522M', \n",
    "    'arabic': 'asafaya/bert-base-arabic'\n",
    "}\n",
    "language = \"bengali\"\n",
    "languages = [\"bengali\", \"indonesian\", \"arabic\"]\n",
    "bert = bert_map[language]\n",
    "device = 'cuda'\n",
    "input_dim = 768\n",
    "hidden_dim = 50\n",
    "lr = 3e-2\n",
    "batch_size = 32\n",
    "epochs = 3\n",
    "\n",
    "dataset = load_dataset(\"copenlu/answerable_tydiqa\")\n",
    "language_dataset = dataset.filter(lambda row: row['language'] == language)\n",
    "\n",
    "train_set = language_dataset[\"train\"]\n",
    "validation_set = language_dataset[\"validation\"]\n",
    "\n",
    "tokenizer = FFN2Tokenizer(bert)\n",
    "train_set = FFN2Dataset(train_set, tokenizer)\n",
    "validation_set = FFN2Dataset(validation_set, tokenizer)"
   ]
  },
  {
   "cell_type": "markdown",
   "metadata": {},
   "source": [
    "# Mean FFN"
   ]
  },
  {
   "cell_type": "code",
   "execution_count": null,
   "metadata": {},
   "outputs": [],
   "source": [
    "mean_model = MeanClassifier(bert)\n",
    "optimizer = Adam(mean_model.parameters(), lr=lr)\n",
    "scheduler = CyclicLR(optimizer, base_lr=0., max_lr=lr, step_size_up=1, step_size_down=len(train_set)*epochs, cycle_momentum=False)\n",
    "best_model = train(mean_model, optimizer, scheduler, train_set, validation_set, epochs=epochs, batch_size=batch_size, lr=lr, device=device)\n",
    "torch.save(best_model, 'mean_bert_classifier.pt')"
   ]
  },
  {
   "cell_type": "markdown",
   "metadata": {},
   "source": [
    "# CLS FFN"
   ]
  },
  {
   "cell_type": "code",
   "execution_count": null,
   "metadata": {},
   "outputs": [],
   "source": [
    "cls_model = CLSClassifier(bert)\n",
    "optimizer = Adam(cls_model.parameters(), lr=lr)\n",
    "scheduler = CyclicLR(optimizer, base_lr=0., max_lr=lr, step_size_up=1, step_size_down=len(train_set)*epochs, cycle_momentum=False)\n",
    "best_model = train(cls_model, optimizer, scheduler, train_set, validation_set, epochs=epochs, batch_size=batch_size, lr=lr, device=device)\n",
    "torch.save(best_model, 'cls_bert_classifier.pt')"
   ]
  },
  {
   "cell_type": "markdown",
   "metadata": {},
   "source": [
    "# CLS Log Reg"
   ]
  },
  {
   "cell_type": "code",
   "execution_count": null,
   "metadata": {},
   "outputs": [],
   "source": [
    "cls_model = LogRegCLSClassifier(bert)\n",
    "optimizer = Adam(cls_model.parameters(), lr=lr)\n",
    "scheduler = CyclicLR(optimizer, base_lr=0., max_lr=lr, step_size_up=1, step_size_down=len(train_set)*epochs, cycle_momentum=False)\n",
    "best_model = train(cls_model, optimizer, scheduler, train_set, validation_set, epochs=epochs, batch_size=batch_size, lr=lr, device=device)\n",
    "torch.save(best_model, 'cls_bert_logreg_classifier.pt')"
   ]
  }
 ],
 "metadata": {
  "language_info": {
   "name": "python"
  }
 },
 "nbformat": 4,
 "nbformat_minor": 2
}
