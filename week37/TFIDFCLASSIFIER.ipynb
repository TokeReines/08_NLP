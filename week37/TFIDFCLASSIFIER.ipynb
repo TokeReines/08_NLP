{
  "nbformat": 4,
  "nbformat_minor": 0,
  "metadata": {
    "colab": {
      "provenance": []
    },
    "kernelspec": {
      "name": "python3",
      "display_name": "Python 3"
    },
    "language_info": {
      "name": "python"
    }
  },
  "cells": [
    {
      "cell_type": "code",
      "source": [
        "!pip install datasets\n",
        "from datasets import load_dataset\n",
        "\n",
        "dataset = load_dataset(\"copenlu/answerable_tydiqa\")\n",
        "train_set = dataset[\"train\"]\n",
        "validation_set = dataset[\"validation\"]"
      ],
      "metadata": {
        "id": "iko2p_326fVG",
        "colab": {
          "base_uri": "https://localhost:8080/"
        },
        "outputId": "297ebe45-cc9e-4ae0-ed0a-e3b8bfb37e6f"
      },
      "execution_count": 42,
      "outputs": [
        {
          "output_type": "stream",
          "name": "stdout",
          "text": [
            "Requirement already satisfied: datasets in /usr/local/lib/python3.10/dist-packages (2.14.5)\n",
            "Requirement already satisfied: numpy>=1.17 in /usr/local/lib/python3.10/dist-packages (from datasets) (1.23.5)\n",
            "Requirement already satisfied: pyarrow>=8.0.0 in /usr/local/lib/python3.10/dist-packages (from datasets) (9.0.0)\n",
            "Requirement already satisfied: dill<0.3.8,>=0.3.0 in /usr/local/lib/python3.10/dist-packages (from datasets) (0.3.7)\n",
            "Requirement already satisfied: pandas in /usr/local/lib/python3.10/dist-packages (from datasets) (1.5.3)\n",
            "Requirement already satisfied: requests>=2.19.0 in /usr/local/lib/python3.10/dist-packages (from datasets) (2.31.0)\n",
            "Requirement already satisfied: tqdm>=4.62.1 in /usr/local/lib/python3.10/dist-packages (from datasets) (4.66.1)\n",
            "Requirement already satisfied: xxhash in /usr/local/lib/python3.10/dist-packages (from datasets) (3.4.1)\n",
            "Requirement already satisfied: multiprocess in /usr/local/lib/python3.10/dist-packages (from datasets) (0.70.15)\n",
            "Requirement already satisfied: fsspec[http]<2023.9.0,>=2023.1.0 in /usr/local/lib/python3.10/dist-packages (from datasets) (2023.6.0)\n",
            "Requirement already satisfied: aiohttp in /usr/local/lib/python3.10/dist-packages (from datasets) (3.8.5)\n",
            "Requirement already satisfied: huggingface-hub<1.0.0,>=0.14.0 in /usr/local/lib/python3.10/dist-packages (from datasets) (0.18.0)\n",
            "Requirement already satisfied: packaging in /usr/local/lib/python3.10/dist-packages (from datasets) (23.2)\n",
            "Requirement already satisfied: pyyaml>=5.1 in /usr/local/lib/python3.10/dist-packages (from datasets) (6.0.1)\n",
            "Requirement already satisfied: attrs>=17.3.0 in /usr/local/lib/python3.10/dist-packages (from aiohttp->datasets) (23.1.0)\n",
            "Requirement already satisfied: charset-normalizer<4.0,>=2.0 in /usr/local/lib/python3.10/dist-packages (from aiohttp->datasets) (3.3.0)\n",
            "Requirement already satisfied: multidict<7.0,>=4.5 in /usr/local/lib/python3.10/dist-packages (from aiohttp->datasets) (6.0.4)\n",
            "Requirement already satisfied: async-timeout<5.0,>=4.0.0a3 in /usr/local/lib/python3.10/dist-packages (from aiohttp->datasets) (4.0.3)\n",
            "Requirement already satisfied: yarl<2.0,>=1.0 in /usr/local/lib/python3.10/dist-packages (from aiohttp->datasets) (1.9.2)\n",
            "Requirement already satisfied: frozenlist>=1.1.1 in /usr/local/lib/python3.10/dist-packages (from aiohttp->datasets) (1.4.0)\n",
            "Requirement already satisfied: aiosignal>=1.1.2 in /usr/local/lib/python3.10/dist-packages (from aiohttp->datasets) (1.3.1)\n",
            "Requirement already satisfied: filelock in /usr/local/lib/python3.10/dist-packages (from huggingface-hub<1.0.0,>=0.14.0->datasets) (3.12.4)\n",
            "Requirement already satisfied: typing-extensions>=3.7.4.3 in /usr/local/lib/python3.10/dist-packages (from huggingface-hub<1.0.0,>=0.14.0->datasets) (4.5.0)\n",
            "Requirement already satisfied: idna<4,>=2.5 in /usr/local/lib/python3.10/dist-packages (from requests>=2.19.0->datasets) (3.4)\n",
            "Requirement already satisfied: urllib3<3,>=1.21.1 in /usr/local/lib/python3.10/dist-packages (from requests>=2.19.0->datasets) (2.0.6)\n",
            "Requirement already satisfied: certifi>=2017.4.17 in /usr/local/lib/python3.10/dist-packages (from requests>=2.19.0->datasets) (2023.7.22)\n",
            "Requirement already satisfied: python-dateutil>=2.8.1 in /usr/local/lib/python3.10/dist-packages (from pandas->datasets) (2.8.2)\n",
            "Requirement already satisfied: pytz>=2020.1 in /usr/local/lib/python3.10/dist-packages (from pandas->datasets) (2023.3.post1)\n",
            "Requirement already satisfied: six>=1.5 in /usr/local/lib/python3.10/dist-packages (from python-dateutil>=2.8.1->pandas->datasets) (1.16.0)\n"
          ]
        }
      ]
    },
    {
      "cell_type": "code",
      "source": [
        "def oracle(answer: str, answer_start: int, document: str) -> bool:\n",
        "    \"\"\"Returns True if the answer is in the document at the given index.\"\"\"\n",
        "    return answer_start != -1 and document[answer_start:answer_start + len(answer)] == answer"
      ],
      "metadata": {
        "id": "8rooK-Nd6vcY"
      },
      "execution_count": 43,
      "outputs": []
    },
    {
      "cell_type": "code",
      "source": [
        "arab_train = train_set.filter(lambda example: example['language'] == 'arabic')\n",
        "arab_validation = validation_set.filter(lambda example: example['language'] == 'arabic')\n",
        "\n",
        "bengali_train = train_set.filter(lambda example: example['language'] == 'bengali')\n",
        "bengali_validation = validation_set.filter(lambda example: example['language'] == 'bengali')\n",
        "\n",
        "indonesian_train = train_set.filter(lambda example: example['language'] == 'indonesian')\n",
        "indonesian_validation = validation_set.filter(lambda example: example['language'] == 'indonesian')"
      ],
      "metadata": {
        "id": "1PEfuKHz6qZu"
      },
      "execution_count": 44,
      "outputs": []
    },
    {
      "cell_type": "code",
      "source": [
        "import pandas as pd\n",
        "import numpy as np\n",
        "arab_train_df = pd.DataFrame(arab_train)\n",
        "arab_validation_df = pd.DataFrame(arab_validation)\n",
        "\n",
        "bengali_train_df = pd.DataFrame(bengali_train)\n",
        "bengali_validation_df = pd.DataFrame(bengali_validation)\n",
        "\n",
        "indonesian_train_df = pd.DataFrame(indonesian_train)\n",
        "indonesian_validation_df = pd.DataFrame(indonesian_validation)\n"
      ],
      "metadata": {
        "id": "zCDyedtv7Fb_"
      },
      "execution_count": 45,
      "outputs": []
    },
    {
      "cell_type": "code",
      "source": [
        "arab_trainDf_final = arab_train_df[['question_text', 'document_plaintext']]\n",
        "arab_validationDf_final = arab_validation_df[['question_text', 'document_plaintext']]\n",
        "\n",
        "bengali_trainDf_final = bengali_train_df[['question_text', 'document_plaintext']]\n",
        "bengali_validationDf_final = bengali_validation_df[['question_text', 'document_plaintext']]\n",
        "\n",
        "indonesian_trainDf_final = indonesian_train_df[['question_text', 'document_plaintext']]\n",
        "indonesian_validationDf_final = indonesian_validation_df[['question_text', 'document_plaintext']]\n",
        "\n"
      ],
      "metadata": {
        "id": "kfYioqvW68IK"
      },
      "execution_count": 46,
      "outputs": []
    },
    {
      "cell_type": "code",
      "source": [
        "arab_trainDf_final['oracle_result']  = arab_train_df.apply(lambda row: oracle(row['annotations']['answer_text'][0], int(row['annotations']['answer_start'][0]), row['document_plaintext']), axis=1)\n",
        "arab_validationDf_final['oracle_result']  = arab_validation_df.apply(lambda row: oracle(row['annotations']['answer_text'][0], int(row['annotations']['answer_start'][0]), row['document_plaintext']), axis=1)\n",
        "\n",
        "bengali_trainDf_final['oracle_result']  = bengali_train_df.apply(lambda row: oracle(row['annotations']['answer_text'][0], int(row['annotations']['answer_start'][0]), row['document_plaintext']), axis=1)\n",
        "bengali_validationDf_final['oracle_result']  = bengali_validation_df.apply(lambda row: oracle(row['annotations']['answer_text'][0], int(row['annotations']['answer_start'][0]), row['document_plaintext']), axis=1)\n",
        "\n",
        "indonesian_trainDf_final['oracle_result']  = indonesian_train_df.apply(lambda row: oracle(row['annotations']['answer_text'][0], int(row['annotations']['answer_start'][0]), row['document_plaintext']), axis=1)\n",
        "indonesian_validationDf_final['oracle_result']  = indonesian_validation_df.apply(lambda row: oracle(row['annotations']['answer_text'][0], int(row['annotations']['answer_start'][0]), row['document_plaintext']), axis=1)"
      ],
      "metadata": {
        "id": "Lx-rB8Xa7k2d",
        "colab": {
          "base_uri": "https://localhost:8080/"
        },
        "outputId": "85582a3a-f80d-4a34-c480-eea448702089"
      },
      "execution_count": 47,
      "outputs": [
        {
          "output_type": "stream",
          "name": "stderr",
          "text": [
            "<ipython-input-47-1b16c5326dc2>:1: SettingWithCopyWarning: \n",
            "A value is trying to be set on a copy of a slice from a DataFrame.\n",
            "Try using .loc[row_indexer,col_indexer] = value instead\n",
            "\n",
            "See the caveats in the documentation: https://pandas.pydata.org/pandas-docs/stable/user_guide/indexing.html#returning-a-view-versus-a-copy\n",
            "  arab_trainDf_final['oracle_result']  = arab_train_df.apply(lambda row: oracle(row['annotations']['answer_text'][0], int(row['annotations']['answer_start'][0]), row['document_plaintext']), axis=1)\n",
            "<ipython-input-47-1b16c5326dc2>:2: SettingWithCopyWarning: \n",
            "A value is trying to be set on a copy of a slice from a DataFrame.\n",
            "Try using .loc[row_indexer,col_indexer] = value instead\n",
            "\n",
            "See the caveats in the documentation: https://pandas.pydata.org/pandas-docs/stable/user_guide/indexing.html#returning-a-view-versus-a-copy\n",
            "  arab_validationDf_final['oracle_result']  = arab_validation_df.apply(lambda row: oracle(row['annotations']['answer_text'][0], int(row['annotations']['answer_start'][0]), row['document_plaintext']), axis=1)\n",
            "<ipython-input-47-1b16c5326dc2>:4: SettingWithCopyWarning: \n",
            "A value is trying to be set on a copy of a slice from a DataFrame.\n",
            "Try using .loc[row_indexer,col_indexer] = value instead\n",
            "\n",
            "See the caveats in the documentation: https://pandas.pydata.org/pandas-docs/stable/user_guide/indexing.html#returning-a-view-versus-a-copy\n",
            "  bengali_trainDf_final['oracle_result']  = bengali_train_df.apply(lambda row: oracle(row['annotations']['answer_text'][0], int(row['annotations']['answer_start'][0]), row['document_plaintext']), axis=1)\n",
            "<ipython-input-47-1b16c5326dc2>:5: SettingWithCopyWarning: \n",
            "A value is trying to be set on a copy of a slice from a DataFrame.\n",
            "Try using .loc[row_indexer,col_indexer] = value instead\n",
            "\n",
            "See the caveats in the documentation: https://pandas.pydata.org/pandas-docs/stable/user_guide/indexing.html#returning-a-view-versus-a-copy\n",
            "  bengali_validationDf_final['oracle_result']  = bengali_validation_df.apply(lambda row: oracle(row['annotations']['answer_text'][0], int(row['annotations']['answer_start'][0]), row['document_plaintext']), axis=1)\n",
            "<ipython-input-47-1b16c5326dc2>:7: SettingWithCopyWarning: \n",
            "A value is trying to be set on a copy of a slice from a DataFrame.\n",
            "Try using .loc[row_indexer,col_indexer] = value instead\n",
            "\n",
            "See the caveats in the documentation: https://pandas.pydata.org/pandas-docs/stable/user_guide/indexing.html#returning-a-view-versus-a-copy\n",
            "  indonesian_trainDf_final['oracle_result']  = indonesian_train_df.apply(lambda row: oracle(row['annotations']['answer_text'][0], int(row['annotations']['answer_start'][0]), row['document_plaintext']), axis=1)\n",
            "<ipython-input-47-1b16c5326dc2>:8: SettingWithCopyWarning: \n",
            "A value is trying to be set on a copy of a slice from a DataFrame.\n",
            "Try using .loc[row_indexer,col_indexer] = value instead\n",
            "\n",
            "See the caveats in the documentation: https://pandas.pydata.org/pandas-docs/stable/user_guide/indexing.html#returning-a-view-versus-a-copy\n",
            "  indonesian_validationDf_final['oracle_result']  = indonesian_validation_df.apply(lambda row: oracle(row['annotations']['answer_text'][0], int(row['annotations']['answer_start'][0]), row['document_plaintext']), axis=1)\n"
          ]
        }
      ]
    },
    {
      "cell_type": "code",
      "source": [
        "arab_trainDf_final.head()"
      ],
      "metadata": {
        "colab": {
          "base_uri": "https://localhost:8080/",
          "height": 206
        },
        "id": "-fCz9tyJsaKI",
        "outputId": "6367e9b8-64aa-4ce0-a7fc-37e3f9d33250"
      },
      "execution_count": 48,
      "outputs": [
        {
          "output_type": "execute_result",
          "data": {
            "text/plain": [
              "                               question_text  \\\n",
              "0                    ما هي المسألة الشرقية ؟   \n",
              "1                 كم تبعد بيت لحم على القدس؟   \n",
              "2  متى ظهرت جماعة الاخوان المسلمين في سوريا؟   \n",
              "3        متى تاسست السلفية الجهادبة في مصر ؟   \n",
              "4                      من هو ريتشارد دوكينز؟   \n",
              "\n",
              "                                  document_plaintext  oracle_result  \n",
              "0  \\n\\nالمسألة الشرقية (بالإنجليزية: Eastern Ques...           True  \n",
              "1  بيت لحم (بالسريانية: ܒܝܬ ܠܚܡ ؛ باليونانية: Βηθ...           True  \n",
              "2  \\nالإخوان المسلمون في سوريا: أسسها طلاب في ثلا...           True  \n",
              "3  نشأت الدعوة السلفية بالإسكندرية في سبعينيات ال...           True  \n",
              "4  \\nكلينتون ريتشارد دوكينز عالمُ سلوك حيوان ، و ...           True  "
            ],
            "text/html": [
              "\n",
              "  <div id=\"df-a2f177e0-11d6-47c3-9524-5d965841e8e6\" class=\"colab-df-container\">\n",
              "    <div>\n",
              "<style scoped>\n",
              "    .dataframe tbody tr th:only-of-type {\n",
              "        vertical-align: middle;\n",
              "    }\n",
              "\n",
              "    .dataframe tbody tr th {\n",
              "        vertical-align: top;\n",
              "    }\n",
              "\n",
              "    .dataframe thead th {\n",
              "        text-align: right;\n",
              "    }\n",
              "</style>\n",
              "<table border=\"1\" class=\"dataframe\">\n",
              "  <thead>\n",
              "    <tr style=\"text-align: right;\">\n",
              "      <th></th>\n",
              "      <th>question_text</th>\n",
              "      <th>document_plaintext</th>\n",
              "      <th>oracle_result</th>\n",
              "    </tr>\n",
              "  </thead>\n",
              "  <tbody>\n",
              "    <tr>\n",
              "      <th>0</th>\n",
              "      <td>ما هي المسألة الشرقية ؟</td>\n",
              "      <td>\\n\\nالمسألة الشرقية (بالإنجليزية: Eastern Ques...</td>\n",
              "      <td>True</td>\n",
              "    </tr>\n",
              "    <tr>\n",
              "      <th>1</th>\n",
              "      <td>كم تبعد بيت لحم على القدس؟</td>\n",
              "      <td>بيت لحم (بالسريانية: ܒܝܬ ܠܚܡ ؛ باليونانية: Βηθ...</td>\n",
              "      <td>True</td>\n",
              "    </tr>\n",
              "    <tr>\n",
              "      <th>2</th>\n",
              "      <td>متى ظهرت جماعة الاخوان المسلمين في سوريا؟</td>\n",
              "      <td>\\nالإخوان المسلمون في سوريا: أسسها طلاب في ثلا...</td>\n",
              "      <td>True</td>\n",
              "    </tr>\n",
              "    <tr>\n",
              "      <th>3</th>\n",
              "      <td>متى تاسست السلفية الجهادبة في مصر ؟</td>\n",
              "      <td>نشأت الدعوة السلفية بالإسكندرية في سبعينيات ال...</td>\n",
              "      <td>True</td>\n",
              "    </tr>\n",
              "    <tr>\n",
              "      <th>4</th>\n",
              "      <td>من هو ريتشارد دوكينز؟</td>\n",
              "      <td>\\nكلينتون ريتشارد دوكينز عالمُ سلوك حيوان ، و ...</td>\n",
              "      <td>True</td>\n",
              "    </tr>\n",
              "  </tbody>\n",
              "</table>\n",
              "</div>\n",
              "    <div class=\"colab-df-buttons\">\n",
              "\n",
              "  <div class=\"colab-df-container\">\n",
              "    <button class=\"colab-df-convert\" onclick=\"convertToInteractive('df-a2f177e0-11d6-47c3-9524-5d965841e8e6')\"\n",
              "            title=\"Convert this dataframe to an interactive table.\"\n",
              "            style=\"display:none;\">\n",
              "\n",
              "  <svg xmlns=\"http://www.w3.org/2000/svg\" height=\"24px\" viewBox=\"0 -960 960 960\">\n",
              "    <path d=\"M120-120v-720h720v720H120Zm60-500h600v-160H180v160Zm220 220h160v-160H400v160Zm0 220h160v-160H400v160ZM180-400h160v-160H180v160Zm440 0h160v-160H620v160ZM180-180h160v-160H180v160Zm440 0h160v-160H620v160Z\"/>\n",
              "  </svg>\n",
              "    </button>\n",
              "\n",
              "  <style>\n",
              "    .colab-df-container {\n",
              "      display:flex;\n",
              "      gap: 12px;\n",
              "    }\n",
              "\n",
              "    .colab-df-convert {\n",
              "      background-color: #E8F0FE;\n",
              "      border: none;\n",
              "      border-radius: 50%;\n",
              "      cursor: pointer;\n",
              "      display: none;\n",
              "      fill: #1967D2;\n",
              "      height: 32px;\n",
              "      padding: 0 0 0 0;\n",
              "      width: 32px;\n",
              "    }\n",
              "\n",
              "    .colab-df-convert:hover {\n",
              "      background-color: #E2EBFA;\n",
              "      box-shadow: 0px 1px 2px rgba(60, 64, 67, 0.3), 0px 1px 3px 1px rgba(60, 64, 67, 0.15);\n",
              "      fill: #174EA6;\n",
              "    }\n",
              "\n",
              "    .colab-df-buttons div {\n",
              "      margin-bottom: 4px;\n",
              "    }\n",
              "\n",
              "    [theme=dark] .colab-df-convert {\n",
              "      background-color: #3B4455;\n",
              "      fill: #D2E3FC;\n",
              "    }\n",
              "\n",
              "    [theme=dark] .colab-df-convert:hover {\n",
              "      background-color: #434B5C;\n",
              "      box-shadow: 0px 1px 3px 1px rgba(0, 0, 0, 0.15);\n",
              "      filter: drop-shadow(0px 1px 2px rgba(0, 0, 0, 0.3));\n",
              "      fill: #FFFFFF;\n",
              "    }\n",
              "  </style>\n",
              "\n",
              "    <script>\n",
              "      const buttonEl =\n",
              "        document.querySelector('#df-a2f177e0-11d6-47c3-9524-5d965841e8e6 button.colab-df-convert');\n",
              "      buttonEl.style.display =\n",
              "        google.colab.kernel.accessAllowed ? 'block' : 'none';\n",
              "\n",
              "      async function convertToInteractive(key) {\n",
              "        const element = document.querySelector('#df-a2f177e0-11d6-47c3-9524-5d965841e8e6');\n",
              "        const dataTable =\n",
              "          await google.colab.kernel.invokeFunction('convertToInteractive',\n",
              "                                                    [key], {});\n",
              "        if (!dataTable) return;\n",
              "\n",
              "        const docLinkHtml = 'Like what you see? Visit the ' +\n",
              "          '<a target=\"_blank\" href=https://colab.research.google.com/notebooks/data_table.ipynb>data table notebook</a>'\n",
              "          + ' to learn more about interactive tables.';\n",
              "        element.innerHTML = '';\n",
              "        dataTable['output_type'] = 'display_data';\n",
              "        await google.colab.output.renderOutput(dataTable, element);\n",
              "        const docLink = document.createElement('div');\n",
              "        docLink.innerHTML = docLinkHtml;\n",
              "        element.appendChild(docLink);\n",
              "      }\n",
              "    </script>\n",
              "  </div>\n",
              "\n",
              "\n",
              "<div id=\"df-0886900a-2991-49c7-a35f-b8f2214d001e\">\n",
              "  <button class=\"colab-df-quickchart\" onclick=\"quickchart('df-0886900a-2991-49c7-a35f-b8f2214d001e')\"\n",
              "            title=\"Suggest charts.\"\n",
              "            style=\"display:none;\">\n",
              "\n",
              "<svg xmlns=\"http://www.w3.org/2000/svg\" height=\"24px\"viewBox=\"0 0 24 24\"\n",
              "     width=\"24px\">\n",
              "    <g>\n",
              "        <path d=\"M19 3H5c-1.1 0-2 .9-2 2v14c0 1.1.9 2 2 2h14c1.1 0 2-.9 2-2V5c0-1.1-.9-2-2-2zM9 17H7v-7h2v7zm4 0h-2V7h2v10zm4 0h-2v-4h2v4z\"/>\n",
              "    </g>\n",
              "</svg>\n",
              "  </button>\n",
              "\n",
              "<style>\n",
              "  .colab-df-quickchart {\n",
              "      --bg-color: #E8F0FE;\n",
              "      --fill-color: #1967D2;\n",
              "      --hover-bg-color: #E2EBFA;\n",
              "      --hover-fill-color: #174EA6;\n",
              "      --disabled-fill-color: #AAA;\n",
              "      --disabled-bg-color: #DDD;\n",
              "  }\n",
              "\n",
              "  [theme=dark] .colab-df-quickchart {\n",
              "      --bg-color: #3B4455;\n",
              "      --fill-color: #D2E3FC;\n",
              "      --hover-bg-color: #434B5C;\n",
              "      --hover-fill-color: #FFFFFF;\n",
              "      --disabled-bg-color: #3B4455;\n",
              "      --disabled-fill-color: #666;\n",
              "  }\n",
              "\n",
              "  .colab-df-quickchart {\n",
              "    background-color: var(--bg-color);\n",
              "    border: none;\n",
              "    border-radius: 50%;\n",
              "    cursor: pointer;\n",
              "    display: none;\n",
              "    fill: var(--fill-color);\n",
              "    height: 32px;\n",
              "    padding: 0;\n",
              "    width: 32px;\n",
              "  }\n",
              "\n",
              "  .colab-df-quickchart:hover {\n",
              "    background-color: var(--hover-bg-color);\n",
              "    box-shadow: 0 1px 2px rgba(60, 64, 67, 0.3), 0 1px 3px 1px rgba(60, 64, 67, 0.15);\n",
              "    fill: var(--button-hover-fill-color);\n",
              "  }\n",
              "\n",
              "  .colab-df-quickchart-complete:disabled,\n",
              "  .colab-df-quickchart-complete:disabled:hover {\n",
              "    background-color: var(--disabled-bg-color);\n",
              "    fill: var(--disabled-fill-color);\n",
              "    box-shadow: none;\n",
              "  }\n",
              "\n",
              "  .colab-df-spinner {\n",
              "    border: 2px solid var(--fill-color);\n",
              "    border-color: transparent;\n",
              "    border-bottom-color: var(--fill-color);\n",
              "    animation:\n",
              "      spin 1s steps(1) infinite;\n",
              "  }\n",
              "\n",
              "  @keyframes spin {\n",
              "    0% {\n",
              "      border-color: transparent;\n",
              "      border-bottom-color: var(--fill-color);\n",
              "      border-left-color: var(--fill-color);\n",
              "    }\n",
              "    20% {\n",
              "      border-color: transparent;\n",
              "      border-left-color: var(--fill-color);\n",
              "      border-top-color: var(--fill-color);\n",
              "    }\n",
              "    30% {\n",
              "      border-color: transparent;\n",
              "      border-left-color: var(--fill-color);\n",
              "      border-top-color: var(--fill-color);\n",
              "      border-right-color: var(--fill-color);\n",
              "    }\n",
              "    40% {\n",
              "      border-color: transparent;\n",
              "      border-right-color: var(--fill-color);\n",
              "      border-top-color: var(--fill-color);\n",
              "    }\n",
              "    60% {\n",
              "      border-color: transparent;\n",
              "      border-right-color: var(--fill-color);\n",
              "    }\n",
              "    80% {\n",
              "      border-color: transparent;\n",
              "      border-right-color: var(--fill-color);\n",
              "      border-bottom-color: var(--fill-color);\n",
              "    }\n",
              "    90% {\n",
              "      border-color: transparent;\n",
              "      border-bottom-color: var(--fill-color);\n",
              "    }\n",
              "  }\n",
              "</style>\n",
              "\n",
              "  <script>\n",
              "    async function quickchart(key) {\n",
              "      const quickchartButtonEl =\n",
              "        document.querySelector('#' + key + ' button');\n",
              "      quickchartButtonEl.disabled = true;  // To prevent multiple clicks.\n",
              "      quickchartButtonEl.classList.add('colab-df-spinner');\n",
              "      try {\n",
              "        const charts = await google.colab.kernel.invokeFunction(\n",
              "            'suggestCharts', [key], {});\n",
              "      } catch (error) {\n",
              "        console.error('Error during call to suggestCharts:', error);\n",
              "      }\n",
              "      quickchartButtonEl.classList.remove('colab-df-spinner');\n",
              "      quickchartButtonEl.classList.add('colab-df-quickchart-complete');\n",
              "    }\n",
              "    (() => {\n",
              "      let quickchartButtonEl =\n",
              "        document.querySelector('#df-0886900a-2991-49c7-a35f-b8f2214d001e button');\n",
              "      quickchartButtonEl.style.display =\n",
              "        google.colab.kernel.accessAllowed ? 'block' : 'none';\n",
              "    })();\n",
              "  </script>\n",
              "</div>\n",
              "    </div>\n",
              "  </div>\n"
            ]
          },
          "metadata": {},
          "execution_count": 48
        }
      ]
    },
    {
      "cell_type": "markdown",
      "source": [
        "# Data Preprocessing\n"
      ],
      "metadata": {
        "id": "gkVMpPMlzmnb"
      }
    },
    {
      "cell_type": "code",
      "source": [
        "import re\n",
        "import string\n",
        "\n",
        "def custom_standardization(input_data):\n",
        "    lowercase = input_data.lower()\n",
        "    lowercase = re.sub('\\[\\d+\\]', '', lowercase)\n",
        "    lowercase = re.sub('\\n', ' ', lowercase)\n",
        "    lowercase = re.sub('[%s]' % re.escape(string.punctuation), '', lowercase)\n",
        "    return lowercase"
      ],
      "metadata": {
        "id": "SZOU8jPJzq2T"
      },
      "execution_count": 49,
      "outputs": []
    },
    {
      "cell_type": "code",
      "source": [
        "arab_validationDf_final['document_plaintext'] [18]"
      ],
      "metadata": {
        "colab": {
          "base_uri": "https://localhost:8080/",
          "height": 53
        },
        "id": "ORm7HW8K0gSp",
        "outputId": "1108ea61-ec38-4d30-f6b2-4f9abf0aef91"
      },
      "execution_count": 50,
      "outputs": [
        {
          "output_type": "execute_result",
          "data": {
            "text/plain": [
              "'\\n\\nكاثرين صوفي فاينر (من مواليد يناير 1971[1][2]) هي صحفية وكاتبة مسرحية بريطانية. في 1 يونيو 2015 أصبحت أول امرأة تتقلد منصب رئيسة تحرير صحيفة الغارديان خلفًا لآلان روسبيرجير[3][4] بعد أن ترأست سابقا عمليات الويب الخاصة بالغارديان في أستراليا والولايات المتحدة، قبل أن يتم اختيارها لمنصب رئيس تحرير الجريدة العريقة[5].'"
            ],
            "application/vnd.google.colaboratory.intrinsic+json": {
              "type": "string"
            }
          },
          "metadata": {},
          "execution_count": 50
        }
      ]
    },
    {
      "cell_type": "code",
      "source": [
        "arab_trainDf_final['question_text']  = arab_trainDf_final['question_text'].apply(custom_standardization)\n",
        "arab_trainDf_final['document_plaintext']  = arab_trainDf_final['document_plaintext'].apply(custom_standardization)\n",
        "\n",
        "arab_validationDf_final['question_text']  = arab_validationDf_final['question_text'].apply(custom_standardization)\n",
        "arab_validationDf_final['document_plaintext']  = arab_validationDf_final['document_plaintext'].apply(custom_standardization)"
      ],
      "metadata": {
        "id": "Ehy35BsDzrRG",
        "colab": {
          "base_uri": "https://localhost:8080/"
        },
        "outputId": "73d02169-7cde-40a3-f43f-9d542842e894"
      },
      "execution_count": 51,
      "outputs": [
        {
          "output_type": "stream",
          "name": "stderr",
          "text": [
            "<ipython-input-51-2dda9d169521>:1: SettingWithCopyWarning: \n",
            "A value is trying to be set on a copy of a slice from a DataFrame.\n",
            "Try using .loc[row_indexer,col_indexer] = value instead\n",
            "\n",
            "See the caveats in the documentation: https://pandas.pydata.org/pandas-docs/stable/user_guide/indexing.html#returning-a-view-versus-a-copy\n",
            "  arab_trainDf_final['question_text']  = arab_trainDf_final['question_text'].apply(custom_standardization)\n",
            "<ipython-input-51-2dda9d169521>:2: SettingWithCopyWarning: \n",
            "A value is trying to be set on a copy of a slice from a DataFrame.\n",
            "Try using .loc[row_indexer,col_indexer] = value instead\n",
            "\n",
            "See the caveats in the documentation: https://pandas.pydata.org/pandas-docs/stable/user_guide/indexing.html#returning-a-view-versus-a-copy\n",
            "  arab_trainDf_final['document_plaintext']  = arab_trainDf_final['document_plaintext'].apply(custom_standardization)\n",
            "<ipython-input-51-2dda9d169521>:4: SettingWithCopyWarning: \n",
            "A value is trying to be set on a copy of a slice from a DataFrame.\n",
            "Try using .loc[row_indexer,col_indexer] = value instead\n",
            "\n",
            "See the caveats in the documentation: https://pandas.pydata.org/pandas-docs/stable/user_guide/indexing.html#returning-a-view-versus-a-copy\n",
            "  arab_validationDf_final['question_text']  = arab_validationDf_final['question_text'].apply(custom_standardization)\n",
            "<ipython-input-51-2dda9d169521>:5: SettingWithCopyWarning: \n",
            "A value is trying to be set on a copy of a slice from a DataFrame.\n",
            "Try using .loc[row_indexer,col_indexer] = value instead\n",
            "\n",
            "See the caveats in the documentation: https://pandas.pydata.org/pandas-docs/stable/user_guide/indexing.html#returning-a-view-versus-a-copy\n",
            "  arab_validationDf_final['document_plaintext']  = arab_validationDf_final['document_plaintext'].apply(custom_standardization)\n"
          ]
        }
      ]
    },
    {
      "cell_type": "code",
      "source": [
        "bengali_trainDf_final['question_text']  = bengali_trainDf_final['question_text'].apply(custom_standardization)\n",
        "bengali_trainDf_final['document_plaintext']  = bengali_trainDf_final['document_plaintext'].apply(custom_standardization)\n",
        "\n",
        "bengali_validationDf_final['question_text']  = bengali_validationDf_final['question_text'].apply(custom_standardization)\n",
        "bengali_validationDf_final['document_plaintext']  = bengali_validationDf_final['document_plaintext'].apply(custom_standardization)"
      ],
      "metadata": {
        "colab": {
          "base_uri": "https://localhost:8080/"
        },
        "id": "pwHe0jMSBmTR",
        "outputId": "3400c8a5-c6f8-4dd8-9263-64db20cd52cb"
      },
      "execution_count": 52,
      "outputs": [
        {
          "output_type": "stream",
          "name": "stderr",
          "text": [
            "<ipython-input-52-6ec9ede86076>:1: SettingWithCopyWarning: \n",
            "A value is trying to be set on a copy of a slice from a DataFrame.\n",
            "Try using .loc[row_indexer,col_indexer] = value instead\n",
            "\n",
            "See the caveats in the documentation: https://pandas.pydata.org/pandas-docs/stable/user_guide/indexing.html#returning-a-view-versus-a-copy\n",
            "  bengali_trainDf_final['question_text']  = bengali_trainDf_final['question_text'].apply(custom_standardization)\n",
            "<ipython-input-52-6ec9ede86076>:2: SettingWithCopyWarning: \n",
            "A value is trying to be set on a copy of a slice from a DataFrame.\n",
            "Try using .loc[row_indexer,col_indexer] = value instead\n",
            "\n",
            "See the caveats in the documentation: https://pandas.pydata.org/pandas-docs/stable/user_guide/indexing.html#returning-a-view-versus-a-copy\n",
            "  bengali_trainDf_final['document_plaintext']  = bengali_trainDf_final['document_plaintext'].apply(custom_standardization)\n",
            "<ipython-input-52-6ec9ede86076>:4: SettingWithCopyWarning: \n",
            "A value is trying to be set on a copy of a slice from a DataFrame.\n",
            "Try using .loc[row_indexer,col_indexer] = value instead\n",
            "\n",
            "See the caveats in the documentation: https://pandas.pydata.org/pandas-docs/stable/user_guide/indexing.html#returning-a-view-versus-a-copy\n",
            "  bengali_validationDf_final['question_text']  = bengali_validationDf_final['question_text'].apply(custom_standardization)\n",
            "<ipython-input-52-6ec9ede86076>:5: SettingWithCopyWarning: \n",
            "A value is trying to be set on a copy of a slice from a DataFrame.\n",
            "Try using .loc[row_indexer,col_indexer] = value instead\n",
            "\n",
            "See the caveats in the documentation: https://pandas.pydata.org/pandas-docs/stable/user_guide/indexing.html#returning-a-view-versus-a-copy\n",
            "  bengali_validationDf_final['document_plaintext']  = bengali_validationDf_final['document_plaintext'].apply(custom_standardization)\n"
          ]
        }
      ]
    },
    {
      "cell_type": "code",
      "source": [
        "indonesian_trainDf_final['question_text']  = indonesian_trainDf_final['question_text'].apply(custom_standardization)\n",
        "indonesian_trainDf_final['document_plaintext']  = indonesian_trainDf_final['document_plaintext'].apply(custom_standardization)\n",
        "\n",
        "indonesian_validationDf_final['question_text']  = indonesian_validationDf_final['question_text'].apply(custom_standardization)\n",
        "indonesian_validationDf_final['document_plaintext']  = indonesian_validationDf_final['document_plaintext'].apply(custom_standardization)"
      ],
      "metadata": {
        "colab": {
          "base_uri": "https://localhost:8080/"
        },
        "id": "IokbZjRvBpuY",
        "outputId": "b2cb55cf-0a8e-4005-d5ec-16ad8fd1255e"
      },
      "execution_count": 53,
      "outputs": [
        {
          "output_type": "stream",
          "name": "stderr",
          "text": [
            "<ipython-input-53-c3d8215d4682>:1: SettingWithCopyWarning: \n",
            "A value is trying to be set on a copy of a slice from a DataFrame.\n",
            "Try using .loc[row_indexer,col_indexer] = value instead\n",
            "\n",
            "See the caveats in the documentation: https://pandas.pydata.org/pandas-docs/stable/user_guide/indexing.html#returning-a-view-versus-a-copy\n",
            "  indonesian_trainDf_final['question_text']  = indonesian_trainDf_final['question_text'].apply(custom_standardization)\n",
            "<ipython-input-53-c3d8215d4682>:2: SettingWithCopyWarning: \n",
            "A value is trying to be set on a copy of a slice from a DataFrame.\n",
            "Try using .loc[row_indexer,col_indexer] = value instead\n",
            "\n",
            "See the caveats in the documentation: https://pandas.pydata.org/pandas-docs/stable/user_guide/indexing.html#returning-a-view-versus-a-copy\n",
            "  indonesian_trainDf_final['document_plaintext']  = indonesian_trainDf_final['document_plaintext'].apply(custom_standardization)\n",
            "<ipython-input-53-c3d8215d4682>:4: SettingWithCopyWarning: \n",
            "A value is trying to be set on a copy of a slice from a DataFrame.\n",
            "Try using .loc[row_indexer,col_indexer] = value instead\n",
            "\n",
            "See the caveats in the documentation: https://pandas.pydata.org/pandas-docs/stable/user_guide/indexing.html#returning-a-view-versus-a-copy\n",
            "  indonesian_validationDf_final['question_text']  = indonesian_validationDf_final['question_text'].apply(custom_standardization)\n",
            "<ipython-input-53-c3d8215d4682>:5: SettingWithCopyWarning: \n",
            "A value is trying to be set on a copy of a slice from a DataFrame.\n",
            "Try using .loc[row_indexer,col_indexer] = value instead\n",
            "\n",
            "See the caveats in the documentation: https://pandas.pydata.org/pandas-docs/stable/user_guide/indexing.html#returning-a-view-versus-a-copy\n",
            "  indonesian_validationDf_final['document_plaintext']  = indonesian_validationDf_final['document_plaintext'].apply(custom_standardization)\n"
          ]
        }
      ]
    },
    {
      "cell_type": "markdown",
      "source": [
        "# Stop words removal"
      ],
      "metadata": {
        "id": "KFra8Ti9BPEX"
      }
    },
    {
      "cell_type": "code",
      "source": [],
      "metadata": {
        "id": "34fwpXkvBS5m"
      },
      "execution_count": 53,
      "outputs": []
    },
    {
      "cell_type": "code",
      "source": [
        "from collections import Counter\n",
        "import nltk\n",
        "nltk.download('punkt')\n",
        "\n",
        "\n",
        "arabic_word_counts = arab_trainDf_final['document_plaintext'].str.split(expand=True).stack().value_counts()\n",
        "bengali_word_counts = bengali_trainDf_final['document_plaintext'].str.split(expand=True).stack().value_counts()\n",
        "indonesian_word_counts = indonesian_trainDf_final['document_plaintext'].str.split(expand=True).stack().value_counts()"
      ],
      "metadata": {
        "colab": {
          "base_uri": "https://localhost:8080/"
        },
        "id": "MkQ2ggY7CMKY",
        "outputId": "36b87201-0294-4d9b-f84f-b9de2d3ba299"
      },
      "execution_count": 54,
      "outputs": [
        {
          "output_type": "stream",
          "name": "stderr",
          "text": [
            "[nltk_data] Downloading package punkt to /root/nltk_data...\n",
            "[nltk_data]   Package punkt is already up-to-date!\n"
          ]
        }
      ]
    },
    {
      "cell_type": "code",
      "source": [
        "stopwords_N = 20\n",
        "arabic_stopwords = arabic_word_counts.head(stopwords_N).index.to_list()\n",
        "bengali_stopwords = bengali_word_counts.head(stopwords_N).index.to_list()\n",
        "indonesian_stopwords = indonesian_word_counts.head(stopwords_N).index.to_list()"
      ],
      "metadata": {
        "id": "sGpcO5XSEel-"
      },
      "execution_count": 55,
      "outputs": []
    },
    {
      "cell_type": "markdown",
      "source": [
        "# tf-idf vectorizer"
      ],
      "metadata": {
        "id": "WIvSqKn78SNS"
      }
    },
    {
      "cell_type": "code",
      "source": [
        "from sklearn.feature_extraction.text import TfidfVectorizer\n",
        "\n",
        "# Initialize the TF-IDF vectorizer\n",
        "arab_vectorizer = TfidfVectorizer(stop_words = arabic_stopwords)\n",
        "bengali_vectorizer = TfidfVectorizer(stop_words = bengali_stopwords)\n",
        "indonesian_vectorizer = TfidfVectorizer(stop_words = indonesian_stopwords)\n",
        "# Fit the vectorizer and transform the text\n",
        "#X = vectorizer.fit_transform(trainDf_final['question_text'] + \" : : \" + trainDf_final['document_plaintext'])\n"
      ],
      "metadata": {
        "id": "HU0yHPsX8NbC"
      },
      "execution_count": 56,
      "outputs": []
    },
    {
      "cell_type": "code",
      "source": [
        "from tkinter.constants import X\n",
        "from sklearn.model_selection import train_test_split\n",
        "from sklearn import svm\n",
        "from scipy.sparse import hstack\n",
        "\n",
        "separator = ' <SEP> '\n",
        "\n",
        "X_train_arabic = arab_vectorizer.fit_transform(arab_trainDf_final['question_text'] + separator + arab_trainDf_final['document_plaintext'])\n",
        "y_train_arabic = arab_trainDf_final['oracle_result']\n",
        "X_test_arabic = arab_vectorizer.transform(arab_validationDf_final['question_text'] + separator + arab_validationDf_final['document_plaintext'])\n",
        "y_test_arabic = arab_validationDf_final['oracle_result']\n",
        "\n",
        "X_train_bengali = bengali_vectorizer.fit_transform(bengali_trainDf_final['question_text'] + separator + bengali_trainDf_final['document_plaintext'])\n",
        "y_train_bengali = bengali_trainDf_final['oracle_result']\n",
        "X_test_bengali = bengali_vectorizer.transform(bengali_validationDf_final['question_text'] + separator + bengali_validationDf_final['document_plaintext'])\n",
        "y_test_bengali = bengali_validationDf_final['oracle_result']\n",
        "\n",
        "X_train_indonesian = indonesian_vectorizer.fit_transform(indonesian_trainDf_final['question_text'] + separator + indonesian_trainDf_final['document_plaintext'])\n",
        "y_train_indonesian = indonesian_trainDf_final['oracle_result']\n",
        "X_test_indonesian = indonesian_vectorizer.transform(indonesian_validationDf_final['question_text'] + separator + indonesian_validationDf_final['document_plaintext'])\n",
        "y_test_indonesian = indonesian_validationDf_final['oracle_result']\n"
      ],
      "metadata": {
        "id": "ig1lJeW--V55",
        "colab": {
          "base_uri": "https://localhost:8080/"
        },
        "outputId": "e692cfe1-7c98-4de4-defc-a5af7bde0f79"
      },
      "execution_count": 57,
      "outputs": [
        {
          "output_type": "stream",
          "name": "stderr",
          "text": [
            "/usr/local/lib/python3.10/dist-packages/sklearn/feature_extraction/text.py:409: UserWarning: Your stop_words may be inconsistent with your preprocessing. Tokenizing the stop words generated tokens ['একট', 'এব', 'কর', 'জন', 'রথম', 'হয'] not in stop_words.\n",
            "  warnings.warn(\n"
          ]
        }
      ]
    },
    {
      "cell_type": "markdown",
      "source": [
        "# SVM classifier"
      ],
      "metadata": {
        "id": "X2E2nWqdAngZ"
      }
    },
    {
      "cell_type": "code",
      "source": [
        "# Initialize and train the classifier\n",
        "arabic_model = svm.SVC()\n",
        "arabic_model.fit(X_train_arabic, y_train_arabic)"
      ],
      "metadata": {
        "colab": {
          "base_uri": "https://localhost:8080/",
          "height": 74
        },
        "id": "gQE3Ah9W3WZb",
        "outputId": "3e01a9b7-86aa-4637-acfe-c282bc8990fa"
      },
      "execution_count": 58,
      "outputs": [
        {
          "output_type": "execute_result",
          "data": {
            "text/plain": [
              "SVC()"
            ],
            "text/html": [
              "<style>#sk-container-id-1 {color: black;background-color: white;}#sk-container-id-1 pre{padding: 0;}#sk-container-id-1 div.sk-toggleable {background-color: white;}#sk-container-id-1 label.sk-toggleable__label {cursor: pointer;display: block;width: 100%;margin-bottom: 0;padding: 0.3em;box-sizing: border-box;text-align: center;}#sk-container-id-1 label.sk-toggleable__label-arrow:before {content: \"▸\";float: left;margin-right: 0.25em;color: #696969;}#sk-container-id-1 label.sk-toggleable__label-arrow:hover:before {color: black;}#sk-container-id-1 div.sk-estimator:hover label.sk-toggleable__label-arrow:before {color: black;}#sk-container-id-1 div.sk-toggleable__content {max-height: 0;max-width: 0;overflow: hidden;text-align: left;background-color: #f0f8ff;}#sk-container-id-1 div.sk-toggleable__content pre {margin: 0.2em;color: black;border-radius: 0.25em;background-color: #f0f8ff;}#sk-container-id-1 input.sk-toggleable__control:checked~div.sk-toggleable__content {max-height: 200px;max-width: 100%;overflow: auto;}#sk-container-id-1 input.sk-toggleable__control:checked~label.sk-toggleable__label-arrow:before {content: \"▾\";}#sk-container-id-1 div.sk-estimator input.sk-toggleable__control:checked~label.sk-toggleable__label {background-color: #d4ebff;}#sk-container-id-1 div.sk-label input.sk-toggleable__control:checked~label.sk-toggleable__label {background-color: #d4ebff;}#sk-container-id-1 input.sk-hidden--visually {border: 0;clip: rect(1px 1px 1px 1px);clip: rect(1px, 1px, 1px, 1px);height: 1px;margin: -1px;overflow: hidden;padding: 0;position: absolute;width: 1px;}#sk-container-id-1 div.sk-estimator {font-family: monospace;background-color: #f0f8ff;border: 1px dotted black;border-radius: 0.25em;box-sizing: border-box;margin-bottom: 0.5em;}#sk-container-id-1 div.sk-estimator:hover {background-color: #d4ebff;}#sk-container-id-1 div.sk-parallel-item::after {content: \"\";width: 100%;border-bottom: 1px solid gray;flex-grow: 1;}#sk-container-id-1 div.sk-label:hover label.sk-toggleable__label {background-color: #d4ebff;}#sk-container-id-1 div.sk-serial::before {content: \"\";position: absolute;border-left: 1px solid gray;box-sizing: border-box;top: 0;bottom: 0;left: 50%;z-index: 0;}#sk-container-id-1 div.sk-serial {display: flex;flex-direction: column;align-items: center;background-color: white;padding-right: 0.2em;padding-left: 0.2em;position: relative;}#sk-container-id-1 div.sk-item {position: relative;z-index: 1;}#sk-container-id-1 div.sk-parallel {display: flex;align-items: stretch;justify-content: center;background-color: white;position: relative;}#sk-container-id-1 div.sk-item::before, #sk-container-id-1 div.sk-parallel-item::before {content: \"\";position: absolute;border-left: 1px solid gray;box-sizing: border-box;top: 0;bottom: 0;left: 50%;z-index: -1;}#sk-container-id-1 div.sk-parallel-item {display: flex;flex-direction: column;z-index: 1;position: relative;background-color: white;}#sk-container-id-1 div.sk-parallel-item:first-child::after {align-self: flex-end;width: 50%;}#sk-container-id-1 div.sk-parallel-item:last-child::after {align-self: flex-start;width: 50%;}#sk-container-id-1 div.sk-parallel-item:only-child::after {width: 0;}#sk-container-id-1 div.sk-dashed-wrapped {border: 1px dashed gray;margin: 0 0.4em 0.5em 0.4em;box-sizing: border-box;padding-bottom: 0.4em;background-color: white;}#sk-container-id-1 div.sk-label label {font-family: monospace;font-weight: bold;display: inline-block;line-height: 1.2em;}#sk-container-id-1 div.sk-label-container {text-align: center;}#sk-container-id-1 div.sk-container {/* jupyter's `normalize.less` sets `[hidden] { display: none; }` but bootstrap.min.css set `[hidden] { display: none !important; }` so we also need the `!important` here to be able to override the default hidden behavior on the sphinx rendered scikit-learn.org. See: https://github.com/scikit-learn/scikit-learn/issues/21755 */display: inline-block !important;position: relative;}#sk-container-id-1 div.sk-text-repr-fallback {display: none;}</style><div id=\"sk-container-id-1\" class=\"sk-top-container\"><div class=\"sk-text-repr-fallback\"><pre>SVC()</pre><b>In a Jupyter environment, please rerun this cell to show the HTML representation or trust the notebook. <br />On GitHub, the HTML representation is unable to render, please try loading this page with nbviewer.org.</b></div><div class=\"sk-container\" hidden><div class=\"sk-item\"><div class=\"sk-estimator sk-toggleable\"><input class=\"sk-toggleable__control sk-hidden--visually\" id=\"sk-estimator-id-1\" type=\"checkbox\" checked><label for=\"sk-estimator-id-1\" class=\"sk-toggleable__label sk-toggleable__label-arrow\">SVC</label><div class=\"sk-toggleable__content\"><pre>SVC()</pre></div></div></div></div></div>"
            ]
          },
          "metadata": {},
          "execution_count": 58
        }
      ]
    },
    {
      "cell_type": "code",
      "source": [
        "from sklearn.metrics import accuracy_score, precision_score, recall_score, f1_score\n",
        "\n",
        "# Make predictions on the test set\n",
        "y_pred_arabic = arabic_model.predict(X_test_arabic)\n",
        "\n",
        "# Calculate the performance metrics\n",
        "print(\"Accuracy: \", accuracy_score(y_test_arabic, y_pred_arabic))\n",
        "print(\"Precision: \", precision_score(y_test_arabic, y_pred_arabic))\n",
        "print(\"Recall: \", recall_score(y_test_arabic, y_pred_arabic))\n",
        "print(\"F1 Score: \", f1_score(y_test_arabic, y_pred_arabic))"
      ],
      "metadata": {
        "colab": {
          "base_uri": "https://localhost:8080/"
        },
        "id": "M-V28cUY-071",
        "outputId": "ff2383fa-1996-4053-f4db-aa6c31ca266d"
      },
      "execution_count": 59,
      "outputs": [
        {
          "output_type": "stream",
          "name": "stdout",
          "text": [
            "Accuracy:  0.7581493165089379\n",
            "Precision:  0.7975757575757576\n",
            "Recall:  0.6919032597266036\n",
            "F1 Score:  0.7409909909909911\n"
          ]
        }
      ]
    },
    {
      "cell_type": "code",
      "source": [
        "bengali_model = svm.SVC()\n",
        "bengali_model.fit(X_train_bengali, y_train_bengali)"
      ],
      "metadata": {
        "colab": {
          "base_uri": "https://localhost:8080/",
          "height": 74
        },
        "id": "SiYLWD44CLpY",
        "outputId": "7eeabeef-53cb-4c84-ccbc-80a5145dbcb4"
      },
      "execution_count": 60,
      "outputs": [
        {
          "output_type": "execute_result",
          "data": {
            "text/plain": [
              "SVC()"
            ],
            "text/html": [
              "<style>#sk-container-id-2 {color: black;background-color: white;}#sk-container-id-2 pre{padding: 0;}#sk-container-id-2 div.sk-toggleable {background-color: white;}#sk-container-id-2 label.sk-toggleable__label {cursor: pointer;display: block;width: 100%;margin-bottom: 0;padding: 0.3em;box-sizing: border-box;text-align: center;}#sk-container-id-2 label.sk-toggleable__label-arrow:before {content: \"▸\";float: left;margin-right: 0.25em;color: #696969;}#sk-container-id-2 label.sk-toggleable__label-arrow:hover:before {color: black;}#sk-container-id-2 div.sk-estimator:hover label.sk-toggleable__label-arrow:before {color: black;}#sk-container-id-2 div.sk-toggleable__content {max-height: 0;max-width: 0;overflow: hidden;text-align: left;background-color: #f0f8ff;}#sk-container-id-2 div.sk-toggleable__content pre {margin: 0.2em;color: black;border-radius: 0.25em;background-color: #f0f8ff;}#sk-container-id-2 input.sk-toggleable__control:checked~div.sk-toggleable__content {max-height: 200px;max-width: 100%;overflow: auto;}#sk-container-id-2 input.sk-toggleable__control:checked~label.sk-toggleable__label-arrow:before {content: \"▾\";}#sk-container-id-2 div.sk-estimator input.sk-toggleable__control:checked~label.sk-toggleable__label {background-color: #d4ebff;}#sk-container-id-2 div.sk-label input.sk-toggleable__control:checked~label.sk-toggleable__label {background-color: #d4ebff;}#sk-container-id-2 input.sk-hidden--visually {border: 0;clip: rect(1px 1px 1px 1px);clip: rect(1px, 1px, 1px, 1px);height: 1px;margin: -1px;overflow: hidden;padding: 0;position: absolute;width: 1px;}#sk-container-id-2 div.sk-estimator {font-family: monospace;background-color: #f0f8ff;border: 1px dotted black;border-radius: 0.25em;box-sizing: border-box;margin-bottom: 0.5em;}#sk-container-id-2 div.sk-estimator:hover {background-color: #d4ebff;}#sk-container-id-2 div.sk-parallel-item::after {content: \"\";width: 100%;border-bottom: 1px solid gray;flex-grow: 1;}#sk-container-id-2 div.sk-label:hover label.sk-toggleable__label {background-color: #d4ebff;}#sk-container-id-2 div.sk-serial::before {content: \"\";position: absolute;border-left: 1px solid gray;box-sizing: border-box;top: 0;bottom: 0;left: 50%;z-index: 0;}#sk-container-id-2 div.sk-serial {display: flex;flex-direction: column;align-items: center;background-color: white;padding-right: 0.2em;padding-left: 0.2em;position: relative;}#sk-container-id-2 div.sk-item {position: relative;z-index: 1;}#sk-container-id-2 div.sk-parallel {display: flex;align-items: stretch;justify-content: center;background-color: white;position: relative;}#sk-container-id-2 div.sk-item::before, #sk-container-id-2 div.sk-parallel-item::before {content: \"\";position: absolute;border-left: 1px solid gray;box-sizing: border-box;top: 0;bottom: 0;left: 50%;z-index: -1;}#sk-container-id-2 div.sk-parallel-item {display: flex;flex-direction: column;z-index: 1;position: relative;background-color: white;}#sk-container-id-2 div.sk-parallel-item:first-child::after {align-self: flex-end;width: 50%;}#sk-container-id-2 div.sk-parallel-item:last-child::after {align-self: flex-start;width: 50%;}#sk-container-id-2 div.sk-parallel-item:only-child::after {width: 0;}#sk-container-id-2 div.sk-dashed-wrapped {border: 1px dashed gray;margin: 0 0.4em 0.5em 0.4em;box-sizing: border-box;padding-bottom: 0.4em;background-color: white;}#sk-container-id-2 div.sk-label label {font-family: monospace;font-weight: bold;display: inline-block;line-height: 1.2em;}#sk-container-id-2 div.sk-label-container {text-align: center;}#sk-container-id-2 div.sk-container {/* jupyter's `normalize.less` sets `[hidden] { display: none; }` but bootstrap.min.css set `[hidden] { display: none !important; }` so we also need the `!important` here to be able to override the default hidden behavior on the sphinx rendered scikit-learn.org. See: https://github.com/scikit-learn/scikit-learn/issues/21755 */display: inline-block !important;position: relative;}#sk-container-id-2 div.sk-text-repr-fallback {display: none;}</style><div id=\"sk-container-id-2\" class=\"sk-top-container\"><div class=\"sk-text-repr-fallback\"><pre>SVC()</pre><b>In a Jupyter environment, please rerun this cell to show the HTML representation or trust the notebook. <br />On GitHub, the HTML representation is unable to render, please try loading this page with nbviewer.org.</b></div><div class=\"sk-container\" hidden><div class=\"sk-item\"><div class=\"sk-estimator sk-toggleable\"><input class=\"sk-toggleable__control sk-hidden--visually\" id=\"sk-estimator-id-2\" type=\"checkbox\" checked><label for=\"sk-estimator-id-2\" class=\"sk-toggleable__label sk-toggleable__label-arrow\">SVC</label><div class=\"sk-toggleable__content\"><pre>SVC()</pre></div></div></div></div></div>"
            ]
          },
          "metadata": {},
          "execution_count": 60
        }
      ]
    },
    {
      "cell_type": "code",
      "source": [
        "from sklearn.metrics import accuracy_score, precision_score, recall_score, f1_score\n",
        "\n",
        "# Make predictions on the test set\n",
        "y_pred_bengali = bengali_model.predict(X_test_bengali)\n",
        "\n",
        "# Calculate the performance metrics\n",
        "print(\"Accuracy: \", accuracy_score(y_test_bengali, y_pred_bengali))\n",
        "print(\"Precision: \", precision_score(y_test_bengali, y_pred_bengali))\n",
        "print(\"Recall: \", recall_score(y_test_bengali, y_pred_bengali))\n",
        "print(\"F1 Score: \", f1_score(y_test_bengali, y_pred_bengali))\n"
      ],
      "metadata": {
        "colab": {
          "base_uri": "https://localhost:8080/"
        },
        "id": "po-CvMzgCQmK",
        "outputId": "aec3f287-0a41-4bf9-bb8e-601182034c06"
      },
      "execution_count": 61,
      "outputs": [
        {
          "output_type": "stream",
          "name": "stdout",
          "text": [
            "Accuracy:  0.6785714285714286\n",
            "Precision:  0.6538461538461539\n",
            "Recall:  0.7589285714285714\n",
            "F1 Score:  0.7024793388429752\n"
          ]
        }
      ]
    },
    {
      "cell_type": "code",
      "source": [
        "indonesian_model = svm.SVC()\n",
        "indonesian_model.fit(X_train_indonesian, y_train_indonesian)"
      ],
      "metadata": {
        "colab": {
          "base_uri": "https://localhost:8080/",
          "height": 74
        },
        "id": "YhvVI9GHCW1G",
        "outputId": "fdd13862-a285-43ad-c6f2-93bfff4f4d2a"
      },
      "execution_count": 62,
      "outputs": [
        {
          "output_type": "execute_result",
          "data": {
            "text/plain": [
              "SVC()"
            ],
            "text/html": [
              "<style>#sk-container-id-3 {color: black;background-color: white;}#sk-container-id-3 pre{padding: 0;}#sk-container-id-3 div.sk-toggleable {background-color: white;}#sk-container-id-3 label.sk-toggleable__label {cursor: pointer;display: block;width: 100%;margin-bottom: 0;padding: 0.3em;box-sizing: border-box;text-align: center;}#sk-container-id-3 label.sk-toggleable__label-arrow:before {content: \"▸\";float: left;margin-right: 0.25em;color: #696969;}#sk-container-id-3 label.sk-toggleable__label-arrow:hover:before {color: black;}#sk-container-id-3 div.sk-estimator:hover label.sk-toggleable__label-arrow:before {color: black;}#sk-container-id-3 div.sk-toggleable__content {max-height: 0;max-width: 0;overflow: hidden;text-align: left;background-color: #f0f8ff;}#sk-container-id-3 div.sk-toggleable__content pre {margin: 0.2em;color: black;border-radius: 0.25em;background-color: #f0f8ff;}#sk-container-id-3 input.sk-toggleable__control:checked~div.sk-toggleable__content {max-height: 200px;max-width: 100%;overflow: auto;}#sk-container-id-3 input.sk-toggleable__control:checked~label.sk-toggleable__label-arrow:before {content: \"▾\";}#sk-container-id-3 div.sk-estimator input.sk-toggleable__control:checked~label.sk-toggleable__label {background-color: #d4ebff;}#sk-container-id-3 div.sk-label input.sk-toggleable__control:checked~label.sk-toggleable__label {background-color: #d4ebff;}#sk-container-id-3 input.sk-hidden--visually {border: 0;clip: rect(1px 1px 1px 1px);clip: rect(1px, 1px, 1px, 1px);height: 1px;margin: -1px;overflow: hidden;padding: 0;position: absolute;width: 1px;}#sk-container-id-3 div.sk-estimator {font-family: monospace;background-color: #f0f8ff;border: 1px dotted black;border-radius: 0.25em;box-sizing: border-box;margin-bottom: 0.5em;}#sk-container-id-3 div.sk-estimator:hover {background-color: #d4ebff;}#sk-container-id-3 div.sk-parallel-item::after {content: \"\";width: 100%;border-bottom: 1px solid gray;flex-grow: 1;}#sk-container-id-3 div.sk-label:hover label.sk-toggleable__label {background-color: #d4ebff;}#sk-container-id-3 div.sk-serial::before {content: \"\";position: absolute;border-left: 1px solid gray;box-sizing: border-box;top: 0;bottom: 0;left: 50%;z-index: 0;}#sk-container-id-3 div.sk-serial {display: flex;flex-direction: column;align-items: center;background-color: white;padding-right: 0.2em;padding-left: 0.2em;position: relative;}#sk-container-id-3 div.sk-item {position: relative;z-index: 1;}#sk-container-id-3 div.sk-parallel {display: flex;align-items: stretch;justify-content: center;background-color: white;position: relative;}#sk-container-id-3 div.sk-item::before, #sk-container-id-3 div.sk-parallel-item::before {content: \"\";position: absolute;border-left: 1px solid gray;box-sizing: border-box;top: 0;bottom: 0;left: 50%;z-index: -1;}#sk-container-id-3 div.sk-parallel-item {display: flex;flex-direction: column;z-index: 1;position: relative;background-color: white;}#sk-container-id-3 div.sk-parallel-item:first-child::after {align-self: flex-end;width: 50%;}#sk-container-id-3 div.sk-parallel-item:last-child::after {align-self: flex-start;width: 50%;}#sk-container-id-3 div.sk-parallel-item:only-child::after {width: 0;}#sk-container-id-3 div.sk-dashed-wrapped {border: 1px dashed gray;margin: 0 0.4em 0.5em 0.4em;box-sizing: border-box;padding-bottom: 0.4em;background-color: white;}#sk-container-id-3 div.sk-label label {font-family: monospace;font-weight: bold;display: inline-block;line-height: 1.2em;}#sk-container-id-3 div.sk-label-container {text-align: center;}#sk-container-id-3 div.sk-container {/* jupyter's `normalize.less` sets `[hidden] { display: none; }` but bootstrap.min.css set `[hidden] { display: none !important; }` so we also need the `!important` here to be able to override the default hidden behavior on the sphinx rendered scikit-learn.org. See: https://github.com/scikit-learn/scikit-learn/issues/21755 */display: inline-block !important;position: relative;}#sk-container-id-3 div.sk-text-repr-fallback {display: none;}</style><div id=\"sk-container-id-3\" class=\"sk-top-container\"><div class=\"sk-text-repr-fallback\"><pre>SVC()</pre><b>In a Jupyter environment, please rerun this cell to show the HTML representation or trust the notebook. <br />On GitHub, the HTML representation is unable to render, please try loading this page with nbviewer.org.</b></div><div class=\"sk-container\" hidden><div class=\"sk-item\"><div class=\"sk-estimator sk-toggleable\"><input class=\"sk-toggleable__control sk-hidden--visually\" id=\"sk-estimator-id-3\" type=\"checkbox\" checked><label for=\"sk-estimator-id-3\" class=\"sk-toggleable__label sk-toggleable__label-arrow\">SVC</label><div class=\"sk-toggleable__content\"><pre>SVC()</pre></div></div></div></div></div>"
            ]
          },
          "metadata": {},
          "execution_count": 62
        }
      ]
    },
    {
      "cell_type": "code",
      "source": [
        "from sklearn.metrics import accuracy_score, precision_score, recall_score, f1_score\n",
        "\n",
        "# Make predictions on the test set\n",
        "y_pred_indonesian = indonesian_model.predict(X_test_indonesian)\n",
        "\n",
        "# Calculate the performance metrics\n",
        "print(\"Accuracy: \", accuracy_score(y_test_indonesian, y_pred_indonesian))\n",
        "print(\"Precision: \", precision_score(y_test_indonesian, y_pred_indonesian))\n",
        "print(\"Recall: \", recall_score(y_test_indonesian, y_pred_indonesian))\n",
        "print(\"F1 Score: \", f1_score(y_test_indonesian, y_pred_indonesian))\n"
      ],
      "metadata": {
        "colab": {
          "base_uri": "https://localhost:8080/"
        },
        "id": "Dccm5t19CYQb",
        "outputId": "2014d0a4-1e6c-4de0-8335-f189c4917ee8"
      },
      "execution_count": 63,
      "outputs": [
        {
          "output_type": "stream",
          "name": "stdout",
          "text": [
            "Accuracy:  0.7103274559193955\n",
            "Precision:  0.7850678733031674\n",
            "Recall:  0.5812395309882747\n",
            "F1 Score:  0.6679499518768047\n"
          ]
        }
      ]
    }
  ]
}